{
 "cells": [
  {
   "cell_type": "markdown",
   "metadata": {},
   "source": [
    "<center>\n",
    "    <img src=\"https://cf-courses-data.s3.us.cloud-object-storage.appdomain.cloud/IBMDeveloperSkillsNetwork-DS0105EN-SkillsNetwork/labs/Module2/images/SN_web_lightmode.png\" width=\"300\" alt=\"cognitiveclass.ai logo\">\n",
    "</center>\n"
   ]
  },
  {
   "cell_type": "markdown",
   "metadata": {},
   "source": [
    "#### Add your code below following the instructions given in the course\n"
   ]
  },
  {
   "cell_type": "markdown",
   "metadata": {},
   "source": [
    "# Jupyter_notebook"
   ]
  },
  {
   "cell_type": "markdown",
   "metadata": {},
   "source": [
    "# introduction"
   ]
  },
  {
   "cell_type": "markdown",
   "metadata": {},
   "source": [
    "## Data Science Languages\n",
    "\n",
    "- Python\n",
    "- R\n",
    "- Julia\n",
    "- SQL"
   ]
  },
  {
   "cell_type": "markdown",
   "metadata": {
    "tags": []
   },
   "source": [
    "## Data Science Libraries\n",
    "\n",
    "- **Python:**\n",
    "  - NumPy\n",
    "  - Pandas\n",
    "  - Matplotlib\n",
    "  - Seaborn\n",
    "  - Scikit-learn\n",
    "  - TensorFlow\n",
    "  - PyTorch\n",
    "\n",
    "- **R:**\n",
    "  - dplyr\n",
    "  - ggplot2\n",
    "  - caret\n",
    "  - tidyr\n",
    "\n",
    "- **Julia:**\n",
    "  - DataFrames\n",
    "  - Plots\n",
    "  - Flux\n",
    "\n",
    "- **SQL:**\n",
    "  - SQLAlchemy (for Python)\n",
    "  - dplyr (for R)"
   ]
  },
  {
   "cell_type": "markdown",
   "metadata": {},
   "source": [
    "## Data Science Tools\n",
    "\n",
    "| Language   | Libraries               | IDEs/Notebooks        |\n",
    "|------------|-------------------------|-----------------------|\n",
    "| **Python** | NumPy, Pandas, Matplotlib, Seaborn, Scikit-learn, TensorFlow, PyTorch | Jupyter Notebook, VSCode, Spyder |\n",
    "| **R**      | dplyr, ggplot2, caret, tidyr | RStudio, Jupyter Notebook |\n",
    "| **Julia**  | DataFrames, Plots, Flux  | Jupyter Notebook, VSCode |\n",
    "| **SQL**    | SQLAlchemy (Python), dplyr (R) | SQL Server Management Studio, DBeaver |\n"
   ]
  },
  {
   "cell_type": "markdown",
   "metadata": {},
   "source": [
    "## Arithmetic Expressions Examples\n",
    "\n",
    "Arithmetic expressions involve mathematical operations such as addition, subtraction, multiplication, and division. They are fundamental in programming and data science for performing numerical calculations. Here are some basic examples:\n",
    "\n",
    "### Addition\n",
    "\n",
    "result = 5 + 3\n",
    "\n",
    "Output: 8"
   ]
  },
  {
   "cell_type": "code",
   "execution_count": 4,
   "metadata": {
    "tags": []
   },
   "outputs": [
    {
     "name": "stdout",
     "output_type": "stream",
     "text": [
      "Multiplication Result: 15\n",
      "Addition Result: 10\n"
     ]
    }
   ],
   "source": [
    "# Multiplication\n",
    "result_multiply = 5 * 3\n",
    "print(\"Multiplication Result:\", result_multiply)\n",
    "\n",
    "# Addition\n",
    "result_add = 8 + 2\n",
    "print(\"Addition Result:\", result_add)"
   ]
  },
  {
   "cell_type": "code",
   "execution_count": 5,
   "metadata": {
    "tags": []
   },
   "outputs": [
    {
     "name": "stdout",
     "output_type": "stream",
     "text": [
      "120 minutes is equal to 2.0 hours.\n"
     ]
    }
   ],
   "source": [
    "# Convert minutes to hours\n",
    "minutes = 120\n",
    "hours = minutes / 60\n",
    "\n",
    "print(f\"{minutes} minutes is equal to {hours} hours.\")"
   ]
  },
  {
   "cell_type": "markdown",
   "metadata": {},
   "source": [
    "## Objectives\n",
    "\n",
    "1. Understand fundamental arithmetic operations.\n",
    "2. Learn to work with basic mathematical expressions in programming.\n",
    "3. Explore the use of variables to store and manipulate numerical data.\n",
    "4. Practice converting units, such as minutes to hours.\n",
    "5. Gain familiarity with coding environments like Jupyter Notebooks or Python scripts.\n",
    "6. Develop a foundational understanding of basic coding concepts in Python."
   ]
  },
  {
   "cell_type": "markdown",
   "metadata": {},
   "source": [
    "## Author\n",
    "\n",
    "- **Your Name**\n",
    "  - *Email:* saurabhverma.du.or.20@gmail.com\n",
    "  - *GitHub:* [Saurabhv158](https://github.com/saurabhv158)\n"
   ]
  },
  {
   "cell_type": "code",
   "execution_count": null,
   "metadata": {},
   "outputs": [],
   "source": []
  }
 ],
 "metadata": {
  "kernelspec": {
   "display_name": "Python",
   "language": "python",
   "name": "conda-env-python-py"
  },
  "language_info": {
   "codemirror_mode": {
    "name": "ipython",
    "version": 3
   },
   "file_extension": ".py",
   "mimetype": "text/x-python",
   "name": "python",
   "nbconvert_exporter": "python",
   "pygments_lexer": "ipython3",
   "version": "3.7.12"
  }
 },
 "nbformat": 4,
 "nbformat_minor": 4
}
